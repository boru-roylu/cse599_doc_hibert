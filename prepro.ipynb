{
 "cells": [
  {
   "cell_type": "code",
   "execution_count": 1,
   "metadata": {},
   "outputs": [
    {
     "name": "stdout",
     "output_type": "stream",
     "text": [
      "paper_data: 203\n"
     ]
    }
   ],
   "source": [
    "import json\n",
    "import numpy as np\n",
    "\n",
    "def clean_text(text):\n",
    "\n",
    "    words = text.split()\n",
    "    words = [word for word in words if not (word[0]=='[' and word[-1]==']')]\n",
    "\n",
    "    text = ' '.join(words).lower()\n",
    "\n",
    "    return text\n",
    "\n",
    "data_file = './project_dir/cse599/data/semscholar_data.jsonl'\n",
    "out_file = './project_dir/cse599/data/preprocessed_data.jsonl'\n",
    "abstract_out_file = './project_dir/cse599/preprocessed_abstracts.jsonl'\n",
    "embedding_size = 768\n",
    "\n",
    "paper_data = []\n",
    "with open(data_file, 'r') as rf:\n",
    "    for line in rf:\n",
    "        this_paper_data = json.loads(line)\n",
    "        paper_data.append(this_paper_data)\n",
    "\n",
    "print(f'paper_data: {len(paper_data)}')\n",
    "papers = []\n",
    "abstracts = []\n",
    "for paper in paper_data:\n",
    "    if paper['body_text'] and paper['abstract']:\n",
    "        abstract = {\n",
    "            'title': 'abstract',\n",
    "            'text': str(clean_text(paper['abstract'][0]['text'])),\n",
    "        }\n",
    "        abstracts.append({'document': [abstract]})\n",
    "        sections = []\n",
    "        for section_dict in paper['body_text']:\n",
    "            section = {\n",
    "                'title': str(section_dict['section']),\n",
    "                'text': str(clean_text(section_dict['text'])),\n",
    "            }\n",
    "            sections.append(section)\n",
    "        papers.append({'document': sections})\n",
    "\n",
    "with open(out_file, 'w') as f:\n",
    "    for paper in papers:\n",
    "        a = json.dumps(paper)\n",
    "        print(a, file=f)\n",
    "\n",
    "with open(abstract_out_file, 'w') as wf:\n",
    "    for abstract in abstracts:\n",
    "        print(json.dumps(abstract), file=wf)"
   ]
  }
 ],
 "metadata": {
  "kernelspec": {
   "display_name": "Python 3.8.12 ('conv')",
   "language": "python",
   "name": "python3"
  },
  "language_info": {
   "codemirror_mode": {
    "name": "ipython",
    "version": 3
   },
   "file_extension": ".py",
   "mimetype": "text/x-python",
   "name": "python",
   "nbconvert_exporter": "python",
   "pygments_lexer": "ipython3",
   "version": "3.8.12"
  },
  "orig_nbformat": 4,
  "vscode": {
   "interpreter": {
    "hash": "c272255b56e5b7e28e39cae529fe625ab1b57af2d64c90b04b0d0930b7089a36"
   }
  }
 },
 "nbformat": 4,
 "nbformat_minor": 2
}
